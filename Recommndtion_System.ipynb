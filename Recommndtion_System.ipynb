{
  "nbformat": 4,
  "nbformat_minor": 0,
  "metadata": {
    "colab": {
      "provenance": [],
      "authorship_tag": "ABX9TyPtBKVUhLjpMhLfFkpZmWtd",
      "include_colab_link": true
    },
    "kernelspec": {
      "name": "python3",
      "display_name": "Python 3"
    },
    "language_info": {
      "name": "python"
    }
  },
  "cells": [
    {
      "cell_type": "markdown",
      "metadata": {
        "id": "view-in-github",
        "colab_type": "text"
      },
      "source": [
        "<a href=\"https://colab.research.google.com/github/momo46060/ComposeMulitplatform/blob/master/Recommndtion_System.ipynb\" target=\"_parent\"><img src=\"https://colab.research.google.com/assets/colab-badge.svg\" alt=\"Open In Colab\"/></a>"
      ]
    },
    {
      "cell_type": "code",
      "execution_count": 53,
      "metadata": {
        "id": "CLDq98j27U2R"
      },
      "outputs": [],
      "source": [
        "import pandas as pd\n",
        "import numpy as np\n",
        "import matplotlib.pyplot as plt\n",
        "import torch\n",
        "import torch.nn as nn\n",
        "import torch.nn.parallel\n",
        "import torch.optim as optim\n",
        "import torch.utils.data\n",
        "from torch.autograd import Variable"
      ]
    },
    {
      "cell_type": "code",
      "source": [
        "# Importing the dataset\n",
        "movies = pd.read_csv('movies.dat', sep = '::', header = None, engine = 'python', encoding = 'latin-1')\n",
        "users = pd.read_csv('users.dat', sep = '::', header = None, engine = 'python', encoding = 'latin-1')\n",
        "ratings = pd.read_csv('ratings.dat', sep = '::', header = None, engine = 'python', encoding = 'latin-1')\n",
        "\n"
      ],
      "metadata": {
        "id": "s7OUNftIBx0Y"
      },
      "execution_count": 54,
      "outputs": []
    },
    {
      "cell_type": "code",
      "source": [
        "# Preparing the traning set and the test set\n",
        "training_set = pd.read_csv('u1.base', delimiter = '\\t')\n",
        "training_set = np.array(training_set, dtype = 'int')\n",
        "test_set = pd.read_csv('u1.test', delimiter = '\\t')\n",
        "test_set = np.array(test_set, dtype = 'int')\n"
      ],
      "metadata": {
        "id": "LhXJ2KHeVuuR"
      },
      "execution_count": 55,
      "outputs": []
    },
    {
      "cell_type": "code",
      "source": [
        "# Getting the number of users and movies\n",
        "nb_users = int(max(max(training_set[:,0]), max(test_set[:,0])))\n",
        "nb_movies = int(max(max(training_set[:,1]), max(test_set[:,1])))"
      ],
      "metadata": {
        "id": "VXtP07-uBx9f"
      },
      "execution_count": 56,
      "outputs": []
    },
    {
      "cell_type": "code",
      "source": [
        "# Convert the data into an array with users un lines and movies in columns\n",
        "def convert(data):\n",
        "    new_data = []\n",
        "    for id_users in range(1, nb_users + 1 ):\n",
        "        id_movies  = data[:,1][ data[:,0] == id_users]\n",
        "        id_ratings = data[:,2][ data[:,0] == id_users]\n",
        "        ratings = np.zeros(nb_movies)\n",
        "        ratings[id_movies - 1] = id_ratings\n",
        "        new_data.append(list(ratings))\n",
        "    return new_data\n",
        "training_set = convert(training_set)\n",
        "test_set = convert(test_set)\n",
        "\n",
        "\n"
      ],
      "metadata": {
        "id": "LiPymLZ6ByFO"
      },
      "execution_count": 57,
      "outputs": []
    },
    {
      "cell_type": "code",
      "source": [
        "# Converting the data into torch tensors\n",
        "training_set = torch.FloatTensor(training_set)\n",
        "test_set = torch.FloatTensor(test_set)\n",
        "print (training_set)"
      ],
      "metadata": {
        "colab": {
          "base_uri": "https://localhost:8080/"
        },
        "id": "Wd77okH-STQo",
        "outputId": "d733f8fc-edc4-4ba7-913c-fb244c9039bb"
      },
      "execution_count": 58,
      "outputs": [
        {
          "output_type": "stream",
          "name": "stdout",
          "text": [
            "tensor([[0., 3., 4.,  ..., 0., 0., 0.],\n",
            "        [4., 0., 0.,  ..., 0., 0., 0.],\n",
            "        [0., 0., 0.,  ..., 0., 0., 0.],\n",
            "        ...,\n",
            "        [5., 0., 0.,  ..., 0., 0., 0.],\n",
            "        [0., 0., 0.,  ..., 0., 0., 0.],\n",
            "        [0., 5., 0.,  ..., 0., 0., 0.]])\n"
          ]
        }
      ]
    },
    {
      "cell_type": "code",
      "source": [
        "# Converting the ratings into binary ratings 1 (liked)  (not liked)\n",
        "training_set[training_set == 0] = -1\n",
        "training_set[training_set == 1] = 0\n",
        "training_set[training_set == 2] = 0\n",
        "training_set[training_set >= 3] = 1\n",
        "test_set[test_set == 0] = -1\n",
        "test_set[test_set == 1] = 0\n",
        "test_set[test_set == 2] = 0\n",
        "test_set[test_set >= 3] = 1\n"
      ],
      "metadata": {
        "id": "u9nKGMRrByL-"
      },
      "execution_count": 59,
      "outputs": []
    },
    {
      "cell_type": "code",
      "source": [
        "# Creating the architecture of the Nerual Network\n",
        "class RBM():\n",
        "    def __init__(self,nv,nh):\n",
        "        self.W =torch.randn(nh,nv)\n",
        "        self.a = torch.randn(1,nh)\n",
        "        self.b = torch.randn(1,nv)\n",
        "    def sample_h(self,x):\n",
        "        wx = torch.mm(x,self.W.t())\n",
        "        activation = wx +self.a.expand_as(wx)\n",
        "        p_h_given_v = torch.sigmoid(activation)\n",
        "        return p_h_given_v, torch.bernoulli(p_h_given_v)\n",
        "\n",
        "    def sample_v(self,y):\n",
        "        wy = torch.mm(y,self.W)\n",
        "        activation = wy +self.b.expand_as(wy)\n",
        "        p_v_given_h = torch.sigmoid(activation)\n",
        "        return p_v_given_h, torch.bernoulli(p_v_given_h)\n",
        "    def train(self,v0,vk,ph0,phk):\n",
        "        # self.W += torch.mm(v0.t(), ph0) - torch.mm(vk.t(), phk)\n",
        "        self.W += torch.mm(ph0.t(), v0) - torch.mm(phk.t(), vk)\n",
        "        self.b += torch.sum((v0 - vk),0)\n",
        "        self.a += torch.sum((ph0 - phk),0)\n",
        ""
      ],
      "metadata": {
        "id": "LFGljXO-ByR2"
      },
      "execution_count": 63,
      "outputs": []
    },
    {
      "cell_type": "code",
      "source": [
        "nv = len(training_set[0])\n",
        "nh = 100\n",
        "batch_size = 100\n",
        "rbm = RBM(nv,nh)"
      ],
      "metadata": {
        "id": "b4tjtExeByY_"
      },
      "execution_count": 64,
      "outputs": []
    },
    {
      "cell_type": "code",
      "source": [
        "# Train the RBM\n",
        "nb_epoch = 10\n",
        "trainxloss=[]\n",
        "for epoch in range(1, nb_epoch + 1):\n",
        "    train_loss = 0\n",
        "    s = 0.\n",
        "    for id_user in range(0, nb_users - batch_size, batch_size):\n",
        "        vk = training_set[id_user:id_user+batch_size]\n",
        "        v0 = training_set[id_user:id_user+batch_size]\n",
        "        ph0,_ = rbm.sample_h(v0)\n",
        "        for k in range(10):\n",
        "            _,hk = rbm.sample_h(vk)\n",
        "            _,vk = rbm.sample_v(hk)\n",
        "            vk[v0<0] = v0[v0<0]\n",
        "        phk,_ = rbm.sample_h(vk)\n",
        "        rbm.train(v0,vk,ph0,phk)\n",
        "        train_loss += torch.mean(torch.abs(v0[v0>=0] - vk[v0>=0]))\n",
        "        trainxloss.append(train_loss)\n",
        "        s += 1.\n",
        "    print('epoch: '+str(epoch)+' loss: '+str(train_loss/s))"
      ],
      "metadata": {
        "colab": {
          "base_uri": "https://localhost:8080/"
        },
        "id": "af74YrSZdPfL",
        "outputId": "cc1bc295-3113-481a-f75b-4b70c3ae9714"
      },
      "execution_count": 76,
      "outputs": [
        {
          "output_type": "stream",
          "name": "stdout",
          "text": [
            "epoch: 1 loss: tensor(0.2456)\n",
            "epoch: 2 loss: tensor(0.2454)\n",
            "epoch: 3 loss: tensor(0.2461)\n",
            "epoch: 4 loss: tensor(0.2463)\n",
            "epoch: 5 loss: tensor(0.2445)\n",
            "epoch: 6 loss: tensor(0.2431)\n",
            "epoch: 7 loss: tensor(0.2446)\n",
            "epoch: 8 loss: tensor(0.2465)\n",
            "epoch: 9 loss: tensor(0.2458)\n",
            "epoch: 10 loss: tensor(0.2452)\n"
          ]
        }
      ]
    },
    {
      "cell_type": "code",
      "source": [
        "# Testing the RBM\n",
        "test_loss = 0\n",
        "s = 0.\n",
        "for id_user in range(nb_users):\n",
        "    v = training_set[id_user:id_user+1]\n",
        "    vt = test_set[id_user:id_user+1]\n",
        "    if len(vt[vt >= 0]) > 0:\n",
        "        _, h = rbm.sample_h(v)\n",
        "        _, v_reconstructed = rbm.sample_v(h)\n",
        "        test_loss += torch.mean(torch.abs(vt[vt >= 0] - v_reconstructed[vt >= 0]))\n",
        "        s += 1.\n",
        "print('test loss: ' + str(test_loss / s))"
      ],
      "metadata": {
        "colab": {
          "base_uri": "https://localhost:8080/"
        },
        "id": "FZnqn6WFByc3",
        "outputId": "ccaa2f68-8d42-43c8-c276-6fae864450a3"
      },
      "execution_count": 77,
      "outputs": [
        {
          "output_type": "stream",
          "name": "stdout",
          "text": [
            "test loss: tensor(0.2568)\n"
          ]
        }
      ]
    },
    {
      "cell_type": "code",
      "source": [
        "import matplotlib.pyplot as plt\n",
        "\n",
        "# خذ عينة من المستخدم مثلاً\n",
        "user_id = 0\n",
        "v_real = test_set[user_id].numpy()\n",
        "v_pred = v[user_id].detach().numpy()  # بعد ما تعمل prediction\n",
        "\n",
        "plt.figure(figsize=(10,5))\n",
        "plt.plot(v_real, label='True Ratings', color='g')\n",
        "plt.plot(v_pred, label='Predicted Ratings', color='r', alpha=0.7)\n",
        "plt.title('True vs Predicted Ratings for User {}'.format(user_id))\n",
        "plt.xlabel('Movie ID')\n",
        "plt.ylabel('Rating')\n",
        "plt.legend()\n",
        "plt.show()\n"
      ],
      "metadata": {
        "colab": {
          "base_uri": "https://localhost:8080/",
          "height": 487
        },
        "id": "01iBTytbodcL",
        "outputId": "901ba681-3d80-46bd-e3d8-2aab24cb99bc"
      },
      "execution_count": 79,
      "outputs": [
        {
          "output_type": "display_data",
          "data": {
            "text/plain": [
              "<Figure size 1000x500 with 1 Axes>"
            ],
            "image/png": "[encoded data removed]"
          },
          "metadata": {}
        }
      ]
    },
    {
      "cell_type": "code",
      "source": [],
      "metadata": {
        "id": "vtj8JMe1odjp"
      },
      "execution_count": null,
      "outputs": []
    },
    {
      "cell_type": "code",
      "source": [],
      "metadata": {
        "id": "6ahcuEk1odpa"
      },
      "execution_count": null,
      "outputs": []
    },
    {
      "cell_type": "code",
      "source": [],
      "metadata": {
        "id": "1rbQzPJBByh_"
      },
      "execution_count": null,
      "outputs": []
    }
  ]
}